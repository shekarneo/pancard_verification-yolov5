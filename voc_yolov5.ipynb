{
 "cells": [
  {
   "cell_type": "code",
   "execution_count": 1,
   "metadata": {},
   "outputs": [],
   "source": [
    "import glob\n",
    "import os\n",
    "import pickle\n",
    "import xml.etree.ElementTree as ET\n",
    "from os import listdir, getcwd\n",
    "from os.path import join"
   ]
  },
  {
   "cell_type": "code",
   "execution_count": 2,
   "metadata": {},
   "outputs": [],
   "source": [
    "def convert(size, box):\n",
    "    dw = 1./(size[0])\n",
    "    dh = 1./(size[1])\n",
    "    x = (box[0] + box[1])/2.0 - 1\n",
    "    y = (box[2] + box[3])/2.0 - 1\n",
    "    w = box[1] - box[0]\n",
    "    h = box[3] - box[2]\n",
    "    x = x*dw\n",
    "    w = w*dw\n",
    "    y = y*dh\n",
    "    h = h*dh\n",
    "    return (x,y,w,h)\n",
    "\n",
    "def convert_annotation(ann_file, lab_file):\n",
    "    in_file = open(ann_file, 'r')\n",
    "    out_file = open(lab_file, 'w')\n",
    "    tree = ET.parse(in_file)\n",
    "    root = tree.getroot()\n",
    "    size = root.find('size')\n",
    "    w = int(size.find('width').text)\n",
    "    h = int(size.find('height').text) \n",
    "    classes = [x.find('name').text for x in root.iter('object')]\n",
    "    for obj in root.iter('object'):\n",
    "        difficult = obj.find('difficult').text\n",
    "        cls = obj.find('name').text\n",
    "        cls_id = classes.index(cls)\n",
    "        xmlbox = obj.find('bndbox')\n",
    "        \n",
    "        b = (float(xmlbox.find('xmin').text), float(xmlbox.find('xmax').text), float(xmlbox.find('ymin').text), float(xmlbox.find('ymax').text))\n",
    "        bb = convert((w,h), b)\n",
    "        out_file.write(str(cls_id) + \" \" + \" \".join([str(a) for a in bb]) + '\\n')\n",
    "    return classes"
   ]
  },
  {
   "cell_type": "code",
   "execution_count": null,
   "metadata": {},
   "outputs": [],
   "source": [
    "path = '/home/neo/Desktop/DATA/for_ocr'\n",
    "im_dirs = ['train', 'val']\n",
    "an_dir = ['annot_train', 'annot_val']\n",
    "\n",
    "\n",
    "for i in range(len(im_dirs)):\n",
    "    full_dir_path = path+'/'+im_dirs[i]\n",
    "    output_img_path = full_dir_path +'/'+'images/'\n",
    "    output_lab_path = full_dir_path +'/'+'labels/'\n",
    "    \n",
    "    try:\n",
    "        if not os.path.exists(output_img_path) or os.path.exists(output_lab_path):\n",
    "            os.makedirs(output_img_path)\n",
    "            os.makedirs(output_lab_path)\n",
    "    except:\n",
    "        pass\n",
    "        \n",
    "    image_paths = [full_dir_path+'/'+x.split('.')[0] for x in os.listdir(full_dir_path)]\n",
    "    label_path = [output_lab_path+x.split('.')[0] for x in os.listdir(full_dir_path)]\n",
    "    annot_files = [path+'/'+an_dir[i]+'/'+x.split('.')[0] for x in os.listdir(path+'/'+an_dir[i])]\n",
    "    for ann in annot_files:\n",
    "        annotation_file = ann+'.xml'\n",
    "        label_file = output_lab_path+ann.split('/')[-1]+'.txt'\n",
    "        classes = convert_annotation(annotation_file, label_file)\n",
    "\n",
    "with open ('data.yaml', 'w') as yml:\n",
    "    yml.writelines([f\"train: {'../train'}\",'\\n', f\"val: {'../val'}\", '\\n',f'nc: {len(classes)}', '\\n',f\"names: {classes}\"])"
   ]
  },
  {
   "cell_type": "code",
   "execution_count": null,
   "metadata": {},
   "outputs": [],
   "source": []
  },
  {
   "cell_type": "code",
   "execution_count": 3,
   "metadata": {},
   "outputs": [],
   "source": [
    "path = '/home/neo/Desktop/DATA/adar_data/data'\n",
    "\n",
    "img_path = path +'/'+'images/'\n",
    "output_lab_path = path +'/'+'labels/'\n",
    "an_dir = 'annotations'\n",
    "\n",
    "try:\n",
    "    if not os.path.exists(output_lab_path):\n",
    "        os.makedirs(output_lab_path)\n",
    "except:\n",
    "    pass\n",
    "    \n",
    "image_paths = [img_path+'/'+x.split('.')[0] for x in os.listdir(img_path)]\n",
    "label_path = [output_lab_path+x.split('.')[0] for x in os.listdir(img_path)]\n",
    "annot_files = [path+'/'+an_dir+'/'+x.split('.')[0] for x in os.listdir(path+'/'+an_dir)]\n",
    "for ann in annot_files:\n",
    "    annotation_file = ann+'.xml'\n",
    "    label_file = output_lab_path+ann.split('/')[-1]+'.txt'\n",
    "    classes = convert_annotation(annotation_file, label_file)\n",
    "\n",
    "with open ('data.yaml', 'w') as yml:\n",
    "    yml.writelines([f\"train: {'../train'}\",'\\n', f\"val: {'../val'}\", '\\n',f'nc: {len(classes)}', '\\n',f\"names: {classes}\"])"
   ]
  },
  {
   "cell_type": "code",
   "execution_count": null,
   "metadata": {},
   "outputs": [],
   "source": [
    "import os\n",
    "path = '/home/neo/Desktop/DATA/adar_data/data'\n",
    "output_lab_path = path +'/'+'labels/'\n",
    "an_dir = 'annotations'\n",
    "\n",
    "img_path = path +'/'+'images/'\n",
    "image_paths = [img_path+x.split('.')[0] for x in os.listdir(img_path)]\n",
    "\n",
    "label_path = [output_lab_path+x.split('.')[0] for x in os.listdir(img_path)]\n",
    "\n",
    "annot_files = [path+'/'+an_dir+'/'+x.split('.')[0] for x in os.listdir(path+'/'+an_dir)]\n"
   ]
  },
  {
   "cell_type": "code",
   "execution_count": null,
   "metadata": {},
   "outputs": [],
   "source": []
  },
  {
   "cell_type": "code",
   "execution_count": null,
   "metadata": {},
   "outputs": [],
   "source": []
  },
  {
   "cell_type": "code",
   "execution_count": null,
   "metadata": {},
   "outputs": [],
   "source": []
  }
 ],
 "metadata": {
  "kernelspec": {
   "display_name": "Python 3",
   "language": "python",
   "name": "python3"
  },
  "language_info": {
   "codemirror_mode": {
    "name": "ipython",
    "version": 3
   },
   "file_extension": ".py",
   "mimetype": "text/x-python",
   "name": "python",
   "nbconvert_exporter": "python",
   "pygments_lexer": "ipython3",
   "version": "3.7.6"
  }
 },
 "nbformat": 4,
 "nbformat_minor": 4
}
